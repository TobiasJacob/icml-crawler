{
 "cells": [
  {
   "cell_type": "markdown",
   "metadata": {},
   "source": [
    "# Analysis of top contributors for ICML 2022\n",
    "\n",
    "This repository analyzes recent icml contributions. If you want to play around with the dataset yourself, you can try it out in the releases section of this repo.\n",
    "\n",
    "[![Open in Gitpod](https://gitpod.io/button/open-in-gitpod.svg)](https://gitpod.io/#https://github.com/TobiasJacob/icml-crawler)\n",
    "\n",
    "## Setup\n",
    "\n",
    "Follow the script [build_and_publish.sh](build_and_publish.sh) for setup and report generation.\n",
    "\n",
    "The download uses a multiprocessing architecture to crawl through all paper submissions within several minutes.\n",
    "\n",
    "## I just want to download the dataset\n",
    "\n",
    "You can download the dataset in the [releases](https://github.com/TobiasJacob/icml-crawler/releases) section. \n",
    "\n",
    "## Example Analysis"
   ]
  },
  {
   "cell_type": "code",
   "execution_count": null,
   "metadata": {},
   "outputs": [],
   "source": [
    "import pandas as pd\n",
    "import matplotlib.pyplot as plt"
   ]
  },
  {
   "cell_type": "code",
   "execution_count": null,
   "metadata": {},
   "outputs": [],
   "source": [
    "df = pd.read_csv(\"../data/records.csv\")\n",
    "df = df.dropna()\n",
    "df"
   ]
  },
  {
   "cell_type": "markdown",
   "metadata": {},
   "source": [
    "Number of individual papers"
   ]
  },
  {
   "cell_type": "code",
   "execution_count": null,
   "metadata": {},
   "outputs": [],
   "source": [
    "df[\"paperid\"].nunique()"
   ]
  },
  {
   "cell_type": "markdown",
   "metadata": {},
   "source": [
    "We can see how the conference grew over time"
   ]
  },
  {
   "cell_type": "code",
   "execution_count": null,
   "metadata": {},
   "outputs": [],
   "source": [
    "df.groupby(\"year\")[\"paperid\"].nunique().plot()\n",
    "plt.ylabel(\"papers\")\n",
    "pass"
   ]
  },
  {
   "cell_type": "markdown",
   "metadata": {},
   "source": [
    "These are the Authors with most contributions"
   ]
  },
  {
   "cell_type": "code",
   "execution_count": null,
   "metadata": {},
   "outputs": [],
   "source": [
    "df.groupby(\"author\")[\"paperid\"].nunique().sort_values(ascending=False).head(20)"
   ]
  },
  {
   "cell_type": "markdown",
   "metadata": {},
   "source": [
    "These are the institutions contributing most"
   ]
  },
  {
   "cell_type": "code",
   "execution_count": null,
   "metadata": {},
   "outputs": [],
   "source": [
    "df_leads = df.groupby([\"institution\", \"year\"])[\"paperid\"].nunique().unstack().sort_values(2022, ascending=False)\n",
    "df_leads.to_csv(\"Leading Institutions.csv\")\n",
    "df_leads.head(30)"
   ]
  },
  {
   "cell_type": "markdown",
   "metadata": {},
   "source": [
    "I am particularily interested in Northeastern, KIT, Tübingen, Munich, Zürich, and RWTH"
   ]
  },
  {
   "cell_type": "code",
   "execution_count": null,
   "metadata": {},
   "outputs": [],
   "source": [
    "print(\"Tübingen\", df[df[\"institution\"].str.contains(\"Tübingen\")][\"paperid\"].nunique())\n",
    "print(\"Northeastern\", df[df[\"institution\"].str.contains(\"Northeastern\")][\"paperid\"].nunique())\n",
    "print(\"Karlsruhe\", df[df[\"institution\"].str.contains(\"Karlsruhe\")][\"paperid\"].nunique())\n",
    "print(\"Munich\", df[df[\"institution\"].str.contains(\"Munich\")][\"paperid\"].nunique())\n",
    "print(\"RWTH\", df[df[\"institution\"].str.contains(\"RWTH\")][\"paperid\"].nunique())\n",
    "print(\"ETH Zürich\", df[df[\"institution\"].str.contains(\"ETH\")][\"paperid\"].nunique())"
   ]
  },
  {
   "cell_type": "code",
   "execution_count": null,
   "metadata": {},
   "outputs": [],
   "source": [
    "df[df[\"institution\"].str.contains(\"Northeastern\")].groupby(\"author\")[\"paperid\"].nunique().sort_values(ascending=False).head(10)"
   ]
  },
  {
   "cell_type": "code",
   "execution_count": null,
   "metadata": {},
   "outputs": [],
   "source": [
    "df[df[\"institution\"].str.contains(\"Tübingen\")].groupby(\"author\")[\"paperid\"].nunique().sort_values(ascending=False).head(10)"
   ]
  },
  {
   "cell_type": "code",
   "execution_count": null,
   "metadata": {},
   "outputs": [],
   "source": [
    "df[df[\"institution\"].str.contains(\"ETH\")].groupby(\"author\")[\"paperid\"].nunique().sort_values(ascending=False).head(10)"
   ]
  },
  {
   "cell_type": "code",
   "execution_count": null,
   "metadata": {},
   "outputs": [],
   "source": [
    "df[df[\"institution\"].str.contains(\"Munich\")].groupby(\"author\")[\"paperid\"].nunique().sort_values(ascending=False).head(10)"
   ]
  },
  {
   "cell_type": "code",
   "execution_count": null,
   "metadata": {},
   "outputs": [],
   "source": [
    "df[df[\"institution\"].str.contains(\"RWTH\")].groupby(\"author\")[\"paperid\"].nunique().sort_values(ascending=False).head(10)"
   ]
  },
  {
   "cell_type": "code",
   "execution_count": null,
   "metadata": {},
   "outputs": [],
   "source": [
    "df[df[\"institution\"].str.contains(\"Karlsruhe\")].groupby(\"author\")[\"paperid\"].nunique().sort_values(ascending=False).head(10)"
   ]
  },
  {
   "cell_type": "code",
   "execution_count": null,
   "metadata": {},
   "outputs": [],
   "source": []
  }
 ],
 "metadata": {
  "kernelspec": {
   "display_name": "Python 3.8.9 64-bit",
   "language": "python",
   "name": "python3"
  },
  "language_info": {
   "codemirror_mode": {
    "name": "ipython",
    "version": 3
   },
   "file_extension": ".py",
   "mimetype": "text/x-python",
   "name": "python",
   "nbconvert_exporter": "python",
   "pygments_lexer": "ipython3",
   "version": "3.8.10"
  },
  "vscode": {
   "interpreter": {
    "hash": "31f2aee4e71d21fbe5cf8b01ff0e069b9275f58929596ceb00d14d90e3e16cd6"
   }
  }
 },
 "nbformat": 4,
 "nbformat_minor": 2
}
